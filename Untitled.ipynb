{
 "cells": [
  {
   "cell_type": "code",
   "execution_count": 4,
   "id": "8dfcfd2f-0154-4623-8a5f-62fe5d50eda5",
   "metadata": {
    "tags": []
   },
   "outputs": [
    {
     "ename": "SyntaxError",
     "evalue": "incomplete input (654932345.py, line 3)",
     "output_type": "error",
     "traceback": [
      "\u001b[0;36m  Cell \u001b[0;32mIn[4], line 3\u001b[0;36m\u001b[0m\n\u001b[0;31m    ls_only_py_files = list(filter(lambda x : x.endswith(\".py\"),ls)\u001b[0m\n\u001b[0m                                                                   ^\u001b[0m\n\u001b[0;31mSyntaxError\u001b[0m\u001b[0;31m:\u001b[0m incomplete input\n"
     ]
    }
   ],
   "source": [
    "import os\n",
    "ls = os.listdir()\n",
    "ls_only_py_files = list(filter(lambda x : x.endswith(\".py\"),ls)"
   ]
  },
  {
   "cell_type": "code",
   "execution_count": 2,
   "id": "41cfbb85-7931-4106-9859-3e6fae00df5c",
   "metadata": {
    "tags": []
   },
   "outputs": [
    {
     "data": {
      "text/plain": [
       "True"
      ]
     },
     "execution_count": 2,
     "metadata": {},
     "output_type": "execute_result"
    }
   ],
   "source": [
    "\"sdf\".endswith(\"f\")"
   ]
  },
  {
   "cell_type": "code",
   "execution_count": null,
   "id": "d288342c-399f-4532-9265-7766b3fac1da",
   "metadata": {},
   "outputs": [],
   "source": []
  }
 ],
 "metadata": {
  "kernelspec": {
   "display_name": "conda_python3",
   "language": "python",
   "name": "conda_python3"
  },
  "language_info": {
   "codemirror_mode": {
    "name": "ipython",
    "version": 3
   },
   "file_extension": ".py",
   "mimetype": "text/x-python",
   "name": "python",
   "nbconvert_exporter": "python",
   "pygments_lexer": "ipython3",
   "version": "3.10.13"
  }
 },
 "nbformat": 4,
 "nbformat_minor": 5
}
